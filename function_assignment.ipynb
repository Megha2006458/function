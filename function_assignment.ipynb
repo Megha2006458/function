{
  "nbformat": 4,
  "nbformat_minor": 0,
  "metadata": {
    "colab": {
      "provenance": []
    },
    "kernelspec": {
      "name": "python3",
      "display_name": "Python 3"
    },
    "language_info": {
      "name": "python"
    }
  },
  "cells": [
    {
      "cell_type": "markdown",
      "source": [
        "Que1. What is the difference between a function and a method in Python?\n",
        "ans.  Function: A block of code that performs a specific task and is defined    \n",
        "      using the def keyword.\n",
        "      Method: A function that belongs to an object. It is called using notation."
      ],
      "metadata": {
        "id": "FoYxnhVtxuvT"
      }
    },
    {
      "cell_type": "code",
      "execution_count": null,
      "metadata": {
        "id": "57RiDUBkxtN4"
      },
      "outputs": [],
      "source": [
        "\n",
        "\n",
        "#example:\n",
        "def greet():\n",
        "  return \"hello\"\n",
        "\n",
        "# Metho:\n",
        "name= \"Megha\"\n",
        "print(name,upper()) #upper is a method"
      ]
    },
    {
      "cell_type": "markdown",
      "source": [
        "Que2. Explain the concept of function arguments and parameters in python.\n",
        "ans.  Parameters: variables listed in a functionn definition.\n",
        "      Argumments: values passsed to the function when calling it."
      ],
      "metadata": {
        "id": "yIXI2Fx6zZXn"
      }
    },
    {
      "cell_type": "code",
      "source": [
        "# Example:\n",
        "def add(a,b)a: #a, b are parameters\n",
        "  return a + b\n",
        "add(2,5) #2, 5 are arguments"
      ],
      "metadata": {
        "collapsed": true,
        "id": "MDzJWuHPz-om"
      },
      "execution_count": null,
      "outputs": []
    },
    {
      "cell_type": "markdown",
      "source": [
        "Que3. What are the different ways to define and call a function in python?\n",
        "ans.  Define using def.\n",
        "      call using the function name followed by parentheses"
      ],
      "metadata": {
        "id": "ty-U0p780q2O"
      }
    },
    {
      "cell_type": "code",
      "source": [
        "# Example:\n",
        "def square(x):\n",
        "  return x*x\n",
        "\n",
        "#calling\n",
        "print(square(5))"
      ],
      "metadata": {
        "id": "0xH7Kcht1HJF"
      },
      "execution_count": null,
      "outputs": []
    },
    {
      "cell_type": "markdown",
      "source": [
        "Que4. What is the purpose of the return statement in a python function?\n",
        "ans.  It ends the function and sends the result back to the caller."
      ],
      "metadata": {
        "id": "fRsxSokc1d3S"
      }
    },
    {
      "cell_type": "code",
      "source": [
        "# Example:\n",
        "def multiply(a, b):\n",
        "  return a * b\n",
        "result= multiply(2,5)"
      ],
      "metadata": {
        "id": "uGv4WqXv11or"
      },
      "execution_count": null,
      "outputs": []
    },
    {
      "cell_type": "markdown",
      "source": [
        "Que5. What are iterator in python and how do they differ from iterables?\n",
        "ans.  Iterable: An object like a list, tuple, or string that can be looped over.\n",
        "      Iterator: An object with a __next__() method and __iter__() method."
      ],
      "metadata": {
        "id": "-QGdb3Dp2OIP"
      }
    },
    {
      "cell_type": "code",
      "source": [
        "#example\n",
        "lst= [1, 2, 3]\n",
        "it= iter(lst) #creating an iterator\n",
        "print(next(it))"
      ],
      "metadata": {
        "id": "so3IiFTBzYiu"
      },
      "execution_count": null,
      "outputs": []
    },
    {
      "cell_type": "markdown",
      "source": [
        "Que6. Explain the concept of generators in python and how they are defined?\n",
        "ans.  Generators are function that use yield insteal of return.\n",
        "      They return an iterator object.\n",
        "\n",
        "    "
      ],
      "metadata": {
        "id": "3OAzeVHY3S2G"
      }
    },
    {
      "cell_type": "code",
      "source": [
        "#Example;\n",
        "def gen():\n",
        "  yield 1\n",
        "  yield 2\n",
        "\n",
        "g = gen()\n",
        "print (next(g))"
      ],
      "metadata": {
        "id": "WB5g96ne4E7i"
      },
      "execution_count": null,
      "outputs": []
    },
    {
      "cell_type": "markdown",
      "source": [
        "Que7. What are the advantages of using generators over regular functions?\n",
        "ans.  *  Memory efficient.\n",
        "      *  Lazy evaluation.\n",
        "      *  Useful for large datasets or streams.\n",
        "\n",
        "\n",
        "Que8.  What is a lambda function in python and when is it typically used? ans.   1. An anonymous, single expresssion function.\n",
        "       2. Used for short, throwaway functions.\n",
        "\n",
        "\n",
        "\n",
        "\n",
        "\n",
        "\n"
      ],
      "metadata": {
        "id": "JNc9dyzh4EV9"
      }
    },
    {
      "cell_type": "code",
      "source": [
        "# Example:\n",
        "square= lambda X: X*X\n",
        "print(square(5))"
      ],
      "metadata": {
        "id": "8scORUtD6Hzu"
      },
      "execution_count": null,
      "outputs": []
    },
    {
      "cell_type": "markdown",
      "source": [
        "Que9. Explain the purpose and usage of the map() function in python.\n",
        "ans.  Applies a function to all items in an iterable."
      ],
      "metadata": {
        "id": "k96JbQt96hgK"
      }
    },
    {
      "cell_type": "code",
      "source": [
        "#Example:\n",
        "nums = [1, 3, 5]\n",
        "squares = list(map(lambda x: x*x, nums))"
      ],
      "metadata": {
        "id": "WwOI2C2964NB"
      },
      "execution_count": null,
      "outputs": []
    },
    {
      "cell_type": "markdown",
      "source": [
        "Que10. What is the difference between map(), reduce(), and filter() functions   \n",
        "       in python?\n",
        "ans.  ** Function**       **Purpose**               **Return**\n",
        "       \n",
        "       map()           Applies a function            New iterable\n",
        "                       to all items.\n",
        "\n",
        "\n",
        "      filter()       Filters items based on          Filtered iterable\n",
        "                     condition.              \n",
        "\n",
        "      reduce()       Reduces iterable to a           single result\n",
        "                     single value.    "
      ],
      "metadata": {
        "id": "v__m6TMK7RAj"
      }
    },
    {
      "cell_type": "markdown",
      "source": [
        "Que11. Using pen and paper write the internal mechanism for sum operation using\n",
        "       reduce function on this given list: [47, 11, 42, 13]?\n",
        "ans.   Using recduce(lamda x, y: x + y, [47, 11, 42, 13]):\n",
        "\n",
        "\n",
        "\n",
        "\n",
        "                    \n",
        "\n",
        "\n",
        "                  ** Practial questions**\n",
        "\n",
        "Que1. Function to return the sum of all even  numbers in a list?\n",
        "\n",
        "\n",
        "\n",
        "\n"
      ],
      "metadata": {
        "id": "aPeYgSAO6CxY"
      }
    },
    {
      "cell_type": "code",
      "source": [
        "def sum_even_numbers(numbers):\n",
        "  return sum(num for num in  numbers if num % 2 == 0)"
      ],
      "metadata": {
        "id": "LRFHD-347uRN"
      },
      "execution_count": null,
      "outputs": []
    },
    {
      "cell_type": "code",
      "source": [
        "print(sum_even_numbers([3, 4, 23, 56]))"
      ],
      "metadata": {
        "id": "IkxeS6TP3_XZ",
        "colab": {
          "base_uri": "https://localhost:8080/"
        },
        "outputId": "cc919925-b471-4397-9730-5f666263f672"
      },
      "execution_count": null,
      "outputs": [
        {
          "output_type": "stream",
          "name": "stdout",
          "text": [
            "60\n"
          ]
        }
      ]
    },
    {
      "cell_type": "markdown",
      "source": [
        "Que2. Function that accepts a string and returns its reverse?\n"
      ],
      "metadata": {
        "id": "80ATe0GC8jz5"
      }
    },
    {
      "cell_type": "code",
      "source": [
        "def reverse_string(s):\n",
        "  return s[::-1]\n",
        "\n",
        "print(reverse_string(\"Mountain\"))"
      ],
      "metadata": {
        "colab": {
          "base_uri": "https://localhost:8080/"
        },
        "id": "hkky0FBw8vvI",
        "outputId": "a8ee1d12-246c-4196-9e04-ea2c5e8ca25b"
      },
      "execution_count": null,
      "outputs": [
        {
          "output_type": "stream",
          "name": "stdout",
          "text": [
            "niatnuoM\n"
          ]
        }
      ]
    },
    {
      "cell_type": "markdown",
      "source": [
        "Que3. Function that returns a list of squares of given integers?"
      ],
      "metadata": {
        "id": "_IOXeSEn9Zmx"
      }
    },
    {
      "cell_type": "code",
      "source": [
        "def square_list(numbers):\n",
        "  return [num ** 2 for num in numbers]\n",
        "\n",
        "print(square_list([1, 2, 8]))"
      ],
      "metadata": {
        "colab": {
          "base_uri": "https://localhost:8080/"
        },
        "id": "KhcJ2r6z9jwq",
        "outputId": "56617906-5fe8-4c53-b1a6-6e33f357d30d"
      },
      "execution_count": null,
      "outputs": [
        {
          "output_type": "stream",
          "name": "stdout",
          "text": [
            "[1, 4, 64]\n"
          ]
        }
      ]
    },
    {
      "cell_type": "markdown",
      "source": [
        "Que4. Function to check if a number is prime (from 1 to 200)?\n"
      ],
      "metadata": {
        "id": "nmBzYXXo-BUJ"
      }
    },
    {
      "cell_type": "code",
      "source": [
        "def is_prime(n):\n",
        "  if n < 2:\n",
        "    return False\n",
        "  for i in range(2, int(n**0.5) + 1):\n",
        "    if n % i == 0:\n",
        "      return False\n",
        "  return True"
      ],
      "metadata": {
        "id": "yPUCB1ZJ-RMx"
      },
      "execution_count": null,
      "outputs": []
    },
    {
      "cell_type": "code",
      "source": [
        "print(is_prime(43))"
      ],
      "metadata": {
        "id": "d5bsRfLX3333",
        "colab": {
          "base_uri": "https://localhost:8080/"
        },
        "outputId": "e73968da-bf29-42d4-b23f-338dd13f18c0"
      },
      "execution_count": null,
      "outputs": [
        {
          "output_type": "stream",
          "name": "stdout",
          "text": [
            "True\n"
          ]
        }
      ]
    },
    {
      "cell_type": "markdown",
      "source": [
        "Que5. Iterator class to generate Fibonacci sequence up to n numbers?"
      ],
      "metadata": {
        "id": "Cve62bYX_OkB"
      }
    },
    {
      "cell_type": "code",
      "source": [
        "class Fibonacci():\n",
        "  def __init__(self, limit):\n",
        "    self. a, self.b = 0, 1\n",
        "    self. limit = limit\n",
        "    self. count = 0\n",
        "\n",
        "   def __iter__(self):\n",
        "      return self\n",
        "\n",
        "  def __next__(self):\n",
        "    if self. count >= self.limit:\n",
        "      raise StopIteration\n",
        "    self.a, self.b = self.b, self.a + self.b\n",
        "    self.count +=1\n",
        "    return self.a\n",
        "\n",
        "\n",
        "\n"
      ],
      "metadata": {
        "colab": {
          "base_uri": "https://localhost:8080/",
          "height": 106
        },
        "id": "GVSRcppS_NwU",
        "outputId": "e755f767-b10d-4427-8109-727bbd519b4a"
      },
      "execution_count": null,
      "outputs": [
        {
          "output_type": "error",
          "ename": "IndentationError",
          "evalue": "unindent does not match any outer indentation level (<tokenize>, line 7)",
          "traceback": [
            "\u001b[0;36m  File \u001b[0;32m\"<tokenize>\"\u001b[0;36m, line \u001b[0;32m7\u001b[0m\n\u001b[0;31m    def __iter__(self):\u001b[0m\n\u001b[0m    ^\u001b[0m\n\u001b[0;31mIndentationError\u001b[0m\u001b[0;31m:\u001b[0m unindent does not match any outer indentation level\n"
          ]
        }
      ]
    },
    {
      "cell_type": "code",
      "source": [
        "for num in Fibonacci(7):\n",
        "  print(num)"
      ],
      "metadata": {
        "colab": {
          "base_uri": "https://localhost:8080/",
          "height": 158
        },
        "id": "vbQJhKlEBGxo",
        "outputId": "242b12d1-93ca-4b78-d234-0968826a7e01"
      },
      "execution_count": null,
      "outputs": [
        {
          "output_type": "error",
          "ename": "TypeError",
          "evalue": "'Fibonacci' object is not iterable",
          "traceback": [
            "\u001b[0;31m---------------------------------------------------------------------------\u001b[0m",
            "\u001b[0;31mTypeError\u001b[0m                                 Traceback (most recent call last)",
            "\u001b[0;32m/tmp/ipython-input-29-4140654120.py\u001b[0m in \u001b[0;36m<cell line: 0>\u001b[0;34m()\u001b[0m\n\u001b[0;32m----> 1\u001b[0;31m \u001b[0;32mfor\u001b[0m \u001b[0mnum\u001b[0m \u001b[0;32min\u001b[0m \u001b[0mFibonacci\u001b[0m\u001b[0;34m(\u001b[0m\u001b[0;36m7\u001b[0m\u001b[0;34m)\u001b[0m\u001b[0;34m:\u001b[0m\u001b[0;34m\u001b[0m\u001b[0;34m\u001b[0m\u001b[0m\n\u001b[0m\u001b[1;32m      2\u001b[0m   \u001b[0mprint\u001b[0m\u001b[0;34m(\u001b[0m\u001b[0mnum\u001b[0m\u001b[0;34m)\u001b[0m\u001b[0;34m\u001b[0m\u001b[0;34m\u001b[0m\u001b[0m\n",
            "\u001b[0;31mTypeError\u001b[0m: 'Fibonacci' object is not iterable"
          ]
        }
      ]
    },
    {
      "cell_type": "code",
      "source": [
        "Que6. Generators to yield power of 2 up to a given exponent?"
      ],
      "metadata": {
        "id": "pWkL-aqxB5Nk"
      },
      "execution_count": null,
      "outputs": []
    },
    {
      "cell_type": "code",
      "source": [
        "def powers_of_two(n):\n",
        "  for i in range(n + 1):\n",
        "    yield 2 ** i\n",
        "\n",
        "for power in powers_of_two(7):\n",
        "  print(power)"
      ],
      "metadata": {
        "colab": {
          "base_uri": "https://localhost:8080/"
        },
        "id": "x501gNeLCLUc",
        "outputId": "f6830bbc-06b1-4a2f-bd5b-b68ac3670c10"
      },
      "execution_count": null,
      "outputs": [
        {
          "output_type": "stream",
          "name": "stdout",
          "text": [
            "1\n",
            "2\n",
            "4\n",
            "8\n",
            "16\n",
            "32\n",
            "64\n",
            "128\n"
          ]
        }
      ]
    },
    {
      "cell_type": "markdown",
      "source": [
        "Que7. Generator function to read a file line by line?"
      ],
      "metadata": {
        "id": "IpaEFOyZCvwQ"
      }
    },
    {
      "cell_type": "markdown",
      "source": [],
      "metadata": {
        "id": "xrA7lvv3Cvdl"
      }
    },
    {
      "cell_type": "code",
      "source": [
        "def read_file_lines(filename):\n",
        "  with open(filename, 'r') as file:\n",
        "    for line in file:\n",
        "      yield line.strip()"
      ],
      "metadata": {
        "id": "lryX8OliCupQ"
      },
      "execution_count": null,
      "outputs": []
    },
    {
      "cell_type": "markdown",
      "source": [
        "Que8. Lambda function to sort list of tuples by second element?\n"
      ],
      "metadata": {
        "id": "5XCCeSCyDh_s"
      }
    },
    {
      "cell_type": "code",
      "source": [
        "data = [(1, 'b'), (2, 'a'), (3, 'c')]\n",
        "sorted_data = sorted(data, key=lambda x: x[1])\n",
        "print(sorted_data)"
      ],
      "metadata": {
        "colab": {
          "base_uri": "https://localhost:8080/"
        },
        "id": "SwejWDpiDgVh",
        "outputId": "f923018d-9841-4498-81d8-54cb8c381fa3"
      },
      "execution_count": null,
      "outputs": [
        {
          "output_type": "stream",
          "name": "stdout",
          "text": [
            "[(2, 'a'), (1, 'b'), (3, 'c')]\n"
          ]
        }
      ]
    },
    {
      "cell_type": "markdown",
      "source": [
        "Que9. Convert a celcius to Fahrenheit using map()?\n"
      ],
      "metadata": {
        "id": "nTiz7u98Ei0H"
      }
    },
    {
      "cell_type": "code",
      "source": [
        "celsius = [0, 10, 20, 30]\n",
        "fahrenheit = list(map(lambda c: (9/5)*c + 32, celsius))\n",
        "print(fahrenheit)"
      ],
      "metadata": {
        "colab": {
          "base_uri": "https://localhost:8080/"
        },
        "id": "T7Xr8vcbEiJs",
        "outputId": "4028cc27-be23-4026-8823-d9c6bdcb0c35"
      },
      "execution_count": null,
      "outputs": [
        {
          "output_type": "stream",
          "name": "stdout",
          "text": [
            "[32.0, 50.0, 68.0, 86.0]\n"
          ]
        }
      ]
    },
    {
      "cell_type": "markdown",
      "source": [
        "Que10. Remove all vowels from a string using filter()?"
      ],
      "metadata": {
        "id": "QCmekIURFcZk"
      }
    },
    {
      "cell_type": "code",
      "source": [
        "def remove_vowels(s):\n",
        "  return ''.join(filter(lambda x: x.lower() not in 'aeiou', s))\n",
        "\n",
        "print(remove_vowels(\"Hello World\"))"
      ],
      "metadata": {
        "colab": {
          "base_uri": "https://localhost:8080/"
        },
        "id": "ehvpQXT-Fa-t",
        "outputId": "c3da3683-0d26-489b-bd8a-9dbcb485e1b3"
      },
      "execution_count": null,
      "outputs": [
        {
          "output_type": "stream",
          "name": "stdout",
          "text": [
            "Hll Wrld\n"
          ]
        }
      ]
    }
  ]
}